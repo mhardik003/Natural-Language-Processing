{
 "cells": [
  {
   "cell_type": "markdown",
   "metadata": {},
   "source": [
    "# Web Scraping"
   ]
  },
  {
   "cell_type": "markdown",
   "metadata": {},
   "source": [
    "##### Downloading and Importing the required libraries"
   ]
  },
  {
   "cell_type": "code",
   "execution_count": 54,
   "metadata": {},
   "outputs": [],
   "source": [
    "import requests\n",
    "import json\n",
    "import re\n",
    "from bs4 import BeautifulSoup"
   ]
  },
  {
   "cell_type": "markdown",
   "metadata": {},
   "source": [
    "##### Getting data from a REST API"
   ]
  },
  {
   "cell_type": "code",
   "execution_count": null,
   "metadata": {},
   "outputs": [],
   "source": [
    "api_data = requests.get(\"https://quotes.rest/qod.json\")\n",
    "converted_data = api_data.json()\n",
    "print(json.dumps(converted_data, indent=4))"
   ]
  },
  {
   "cell_type": "code",
   "execution_count": 56,
   "metadata": {},
   "outputs": [
    {
     "name": "stdout",
     "output_type": "stream",
     "text": [
      "Many of life's failures are experienced by people who did not realize how close they were to success when they gave up. \n",
      " -- Thomas Edison\n"
     ]
    }
   ],
   "source": [
    "quotes = converted_data[\"contents\"][\"quotes\"][0]\n",
    "print(quotes[\"quote\"],\"\\n --\", quotes[\"author\"])"
   ]
  },
  {
   "cell_type": "markdown",
   "metadata": {},
   "source": [
    "##### Fetching data from a web page"
   ]
  },
  {
   "cell_type": "code",
   "execution_count": null,
   "metadata": {},
   "outputs": [],
   "source": [
    "ycombinator= requests.get(\"https://news.ycombinator.com\")\n",
    "print(ycombinator.text)"
   ]
  },
  {
   "cell_type": "code",
   "execution_count": null,
   "metadata": {},
   "outputs": [],
   "source": [
    "# One way is that we manually clean the data which would not be efficient\n",
    "\n",
    "pattern = re.compile(r'<.*?>')\n",
    "cleaned_website = pattern.sub('', ycombinator.text)\n",
    "print(\"-----------------------\\nAFTER MANUALLY CLEANING\\n-----------------------\\n\",cleaned_website)\n",
    "\n",
    "\n",
    "# The other way is to use beautiful soup to extract the important content\n",
    "cleaned_website1= BeautifulSoup(ycombinator.text,\"html5lib\")\n",
    "print(\"-----------------------------------\\nAFTER CLEANING USING BEAUTIFUL SOUP\\n-----------------------------------\\n\", cleaned_website1.get_text())"
   ]
  },
  {
   "cell_type": "markdown",
   "metadata": {},
   "source": [
    "##### Finding all the articles"
   ]
  },
  {
   "cell_type": "markdown",
   "metadata": {},
   "source": [
    "###### (we will have to change the tags as per the website which we will be using)"
   ]
  },
  {
   "cell_type": "code",
   "execution_count": null,
   "metadata": {},
   "outputs": [],
   "source": [
    "article_headlines= cleaned_website1.find_all(\"tr\", class_=\"athing\")\n",
    "print(article_headlines[0],\"\\n-----------------------\\n\")\n",
    "\n",
    "#getting the titles\n",
    "titles=[]\n",
    "for article_headline in article_headlines:\n",
    "    titles.append(article_headline.find(\"a\", class_=\"titlelink\").get_text().strip())\n",
    "\n",
    "print(len(titles),\" articles found from the ycombinator news website\")\n",
    "print(\"Sample : \", titles[0])"
   ]
  },
  {
   "cell_type": "markdown",
   "metadata": {},
   "source": [
    "##### Now we can save all this data to a file and then do text processing on that file"
   ]
  },
  {
   "cell_type": "code",
   "execution_count": 64,
   "metadata": {},
   "outputs": [],
   "source": [
    "f = open(\"ycombinator_data.txt\",'w')\n",
    "\n",
    "for title in titles:\n",
    "    f.write(title)\n",
    "    f.write(\"\\n\")"
   ]
  },
  {
   "cell_type": "code",
   "execution_count": 65,
   "metadata": {},
   "outputs": [],
   "source": [
    "f.close()"
   ]
  },
  {
   "cell_type": "code",
   "execution_count": null,
   "metadata": {},
   "outputs": [],
   "source": []
  }
 ],
 "metadata": {
  "kernelspec": {
   "display_name": "Python 3.10.5 64-bit",
   "language": "python",
   "name": "python3"
  },
  "language_info": {
   "codemirror_mode": {
    "name": "ipython",
    "version": 3
   },
   "file_extension": ".py",
   "mimetype": "text/x-python",
   "name": "python",
   "nbconvert_exporter": "python",
   "pygments_lexer": "ipython3",
   "version": "3.10.5"
  },
  "orig_nbformat": 4,
  "vscode": {
   "interpreter": {
    "hash": "e7370f93d1d0cde622a1f8e1c04877d8463912d04d973331ad4851f04de6915a"
   }
  }
 },
 "nbformat": 4,
 "nbformat_minor": 2
}
