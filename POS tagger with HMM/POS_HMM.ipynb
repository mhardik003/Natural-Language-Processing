{
 "cells": [
  {
   "cell_type": "markdown",
   "metadata": {},
   "source": [
    "## PART OF SPEECH TAGGER USING HIDDEN MARKOV MODELS\n",
    "\n",
    "\n",
    "#### iNTRODUCTION\n",
    "    Part of speech tagging is the process of determining the syntactic category of a word from the words in its surrounding context. It is often used to help disambiguate natural language phrases because it can be done quickly with high accuracy.\n",
    "    \n",
    "In this notebook, we'll use the <a href =\"https://pomegranate.readthedocs.io/en/latest/\" target=\"_blank\">Pomegranate library </a> to build a hidden Markov model for part of speech tagging using a \"universal\" tagset. Hidden Markov models have been able to achieve >96% tag accuracy with larger tagsets on realistic text corpora. Hidden Markov models have also been used for speech recognition and speech generation, machine translation, gene recognition for bioinformatics, and human gesture recognition for computer vision, and more.\n",
    "\n",
    "\n",
    "Visit <a href =\"https://mhardik003.notion.site/NLP-751ad844946e499c9c64445a1254f648\" target=\"_blank\"> My Notion Page </a> for better understading of HMM networks.\n",
    "\n",
    "Code help taken from <a href=\"https://github.com/udacity/artificial-intelligence/tree/master/Projects/4_HMM%20Tagger\"> here </a>\n",
    "\n",
    "***\n",
    "\n",
    "\n",
    "Brief of what we will be doing in this notebook\n",
    "* Reading and preprocessing the data\n",
    "    * Evaluating the `dataset` interface (in the helpers.py code) (will be discussed further later)\n",
    "    \n",
    "<br>\n",
    "\n",
    "* Building a most frequent class tagger\n",
    "    * using pair counts\n",
    "    * most frequent class tagger (MFC Tagger)\n",
    "    * Making predictions with a model for checking\n",
    "    * Decoding sequences with a MFC tagger\n",
    "    * Evaluating the accuracy of this model\n",
    "\n",
    "<br>\n",
    "\n",
    "* Build the HMM tagger\n",
    "    * Unigram counts\n",
    "    * Bigram Counts\n",
    "    * Sequence starting Counts\n",
    "    * Seqeucne ending counts\n",
    "    * Basic HMM tagger\n",
    "    * Decoding sequences with the HMM tagger\n",
    "\n",
    "***\n"
   ]
  },
  {
   "cell_type": "code",
   "execution_count": 81,
   "metadata": {},
   "outputs": [
    {
     "name": "stdout",
     "output_type": "stream",
     "text": [
      "The autoreload extension is already loaded. To reload it, use:\n",
      "  %reload_ext autoreload\n"
     ]
    }
   ],
   "source": [
    "%load_ext autoreload\n",
    "%aimport helpers, tests\n",
    "%autoreload 1"
   ]
  },
  {
   "cell_type": "code",
   "execution_count": 82,
   "metadata": {},
   "outputs": [],
   "source": [
    "import matplotlib.pyplot as plt\n",
    "import numpy as np\n",
    "from pprint import pprint\n",
    "\n",
    "from IPython.core.display import HTML\n",
    "from itertools import chain\n",
    "from collections import Counter, defaultdict\n",
    "from helpers import show_model, Dataset\n",
    "\n",
    "\n",
    "from pomegranate import State, HiddenMarkovModel, DiscreteDistribution"
   ]
  },
  {
   "cell_type": "markdown",
   "metadata": {},
   "source": [
    "***\n",
    "\n",
    "# Processing the data\n",
    "\n",
    "### The dataset interface \n",
    "\n",
    "* It isan iterable collection of sentences having partitions for training & testing\n",
    "* Dataset only attributes\n",
    "    * `training_Set` : reference to a subset object containing the samples for trainig\n",
    "    *  `testing_set` : reference to a subset object containing the samples for testing\n",
    "    \n",
    "<br>\n",
    "\n",
    "* Dataset & Subset Attributes\n",
    "    * `sentences` : a dictionary with an entry {sentence_key : Sentence()} for each sentence in the corpus\n",
    "    * `key` : an immutable ordered (not sorted) collection of the sentence_keys for the corpus\n",
    "    * `vocab` : an immutable collection of the unique words in the corpus\n",
    "    * `tagset` : an immutable collection of the unique tags in the corpus\n",
    "    * `X` : returns an array of words grouped by sentences ((w11,w12,w13,..),(w21,w22,w23...)...)\n",
    "    * `Y` : returns an array of tags grouped by sentences ((t11,t12,t13,..),(t21,t22,t23...)...)\n",
    "    * `N` : returns the number of distinct samples (individual words/tags) in the dataset\n",
    "\n",
    "<br>\n",
    "\n",
    "* Methods\n",
    "    * `stream()` : returns a flat iterable over all (word,tag) pairs across all the sentences in the corpus\n",
    "    * `__iter__()` : returns an iterable over the data as (sentence_key, Sentence()) pairs\n",
    "    * `__len__()` : returns the number of sentences in the corpus\n",
    "\n",
    "\n",
    "***\n",
    "\n",
    "For example, consider a Subset, subset, of the sentences <br>\n",
    "` {\"s0\": Sentence((\"See\", \"Spot\", \"run\"), (\"VERB\", \"NOUN\", \"VERB\")), \"s1\": Sentence((\"Spot\", \"ran\"), (\"NOUN\", \"VERB\"))}.` <br>\n",
    "The subset will have these attributes:\n",
    "\n",
    "* `subset.keys` == {\"s1\", \"s0\"}  `# unordered`\n",
    "* `subset.vocab` == {\"See\", \"run\", \"ran\", \"Spot\"} ` # unordered`\n",
    "* `subset.tagset` == {\"VERB\", \"NOUN\"} ` # unordered`\n",
    "* `subset.X` == ((\"Spot\", \"ran\"), (\"See\", \"Spot\", \"run\"))  `# order matches .keys`\n",
    "* `subset.Y` == ((\"NOUN\", \"VERB\"), (\"VERB\", \"NOUN\", \"VERB\")) ` # order matches .keys`\n",
    "* `subset.N` == 7 ` # there are a total of seven observations over all sentences`\n",
    "* `len(subset)` == 2 ` # because there are two sentences`\n",
    "\n",
    "***"
   ]
  },
  {
   "cell_type": "code",
   "execution_count": 83,
   "metadata": {},
   "outputs": [
    {
     "name": "stdout",
     "output_type": "stream",
     "text": [
      "There are 57341 sentences in the corpus.\n",
      "There are 45872 sentences in the training set.\n",
      "There are 11469 sentences in the testing set.\n"
     ]
    }
   ],
   "source": [
    "data = Dataset(\"tags-universal.txt\", \"brown-universal.txt\", train_test_split=0.8)\n",
    "\n",
    "print(\"There are {} sentences in the corpus.\".format(len(data)))\n",
    "print(\"There are {} sentences in the training set.\".format(len(data.training_set)))\n",
    "print(\"There are {} sentences in the testing set.\".format(len(data.testing_set)))\n",
    "\n",
    "assert len(data) == len(data.training_set) + len(data.testing_set), \\\n",
    "       \"The number of sentences in the training set + testing set should sum to the number of sentences in the corpus\"\n"
   ]
  },
  {
   "cell_type": "markdown",
   "metadata": {},
   "source": []
  },
  {
   "cell_type": "markdown",
   "metadata": {},
   "source": [
    "***\n",
    "## Sentences\n",
    "\n",
    "Dataset.sentences is a dictionary of all sentences in the training corpus, each keyed to a unique sentence identifier. Each Sentence is itself an object with two attributes: a tuple of the words in the sentence named words and a tuple of the tag corresponding to each word named tags.\n",
    "\n",
    "***"
   ]
  },
  {
   "cell_type": "code",
   "execution_count": 84,
   "metadata": {},
   "outputs": [
    {
     "name": "stdout",
     "output_type": "stream",
     "text": [
      "Setence : b100-38532\n",
      "Words in the sentence : \n",
      "\t('Perhaps', 'it', 'was', 'right', ';', ';')\n",
      "Tags in the sentence : \n",
      "\t('ADV', 'PRON', 'VERB', 'ADJ', '.', '.')\n"
     ]
    }
   ],
   "source": [
    "key = 'b100-38532'\n",
    "print(\"Setence : {}\". format(key))\n",
    "print(\"Words in the sentence : \\n\\t{!s}\" .format(data.sentences[key].words))\n",
    "print(\"Tags in the sentence : \\n\\t{!s}\" .format(data.sentences[key].tags))"
   ]
  },
  {
   "cell_type": "markdown",
   "metadata": {},
   "source": [
    "***\n",
    "\n",
    "## Unique Elements\n",
    "\n",
    "We can access the list of unique words (the dataset vocabulary) via `Dataset.vocab` and the unique list of tags via `Dataset.tagset`.\n",
    "\n",
    "***"
   ]
  },
  {
   "cell_type": "code",
   "execution_count": 85,
   "metadata": {},
   "outputs": [
    {
     "name": "stdout",
     "output_type": "stream",
     "text": [
      "There are a total of 1161241 samples of 56057 unique words in the corpus.\n",
      "There are 928478 samples of 50422 unique words in the training set.\n",
      "There are 232763 samples of 25277 unique words in the testing set.\n",
      "There are 5635 words in the test set that are missing in the training set.\n"
     ]
    }
   ],
   "source": [
    "print(\"There are a total of {} samples of {} unique words in the corpus.\"\n",
    "      .format(data.N, len(data.vocab)))\n",
    "print(\"There are {} samples of {} unique words in the training set.\"\n",
    "      .format(data.training_set.N, len(data.training_set.vocab)))\n",
    "print(\"There are {} samples of {} unique words in the testing set.\"\n",
    "      .format(data.testing_set.N, len(data.testing_set.vocab)))\n",
    "print(\"There are {} words in the test set that are missing in the training set.\"\n",
    "      .format(len(data.testing_set.vocab - data.training_set.vocab)))   # since there are the words on which the POS tagger will work with only the transition probabilities\n",
    "\n",
    "assert data.N == data.training_set.N + data.testing_set.N, \\\n",
    "       \"The number of training + test samples should sum to the total number of samples\""
   ]
  },
  {
   "cell_type": "markdown",
   "metadata": {},
   "source": [
    "\n",
    "## Accessing word and tag Sequences\n",
    "\n",
    "The `Dataset.X` and `Dataset.Y` attributes provide access to ordered collections of matching word and tag sequences for each sentence in the dataset.\n"
   ]
  },
  {
   "cell_type": "code",
   "execution_count": 86,
   "metadata": {},
   "outputs": [
    {
     "name": "stdout",
     "output_type": "stream",
     "text": [
      "Sentence 1: ('Mr.', 'Podger', 'had', 'thanked', 'him', 'gravely', ',', 'and', 'now', 'he', 'made', 'use', 'of', 'the', 'advice', '.')\n",
      "\n",
      "Labels 1: ('NOUN', 'NOUN', 'VERB', 'VERB', 'PRON', 'ADV', '.', 'CONJ', 'ADV', 'PRON', 'VERB', 'NOUN', 'ADP', 'DET', 'NOUN', '.')\n",
      "\n",
      "Sentence 2: ('But', 'there', 'seemed', 'to', 'be', 'some', 'difference', 'of', 'opinion', 'as', 'to', 'how', 'far', 'the', 'board', 'should', 'go', ',', 'and', 'whose', 'advice', 'it', 'should', 'follow', '.')\n",
      "\n",
      "Labels 2: ('CONJ', 'PRT', 'VERB', 'PRT', 'VERB', 'DET', 'NOUN', 'ADP', 'NOUN', 'ADP', 'ADP', 'ADV', 'ADV', 'DET', 'NOUN', 'VERB', 'VERB', '.', 'CONJ', 'DET', 'NOUN', 'PRON', 'VERB', 'VERB', '.')\n",
      "\n"
     ]
    }
   ],
   "source": [
    "# accessing words with Dataset.X and tags with Dataset.Y \n",
    "for i in range(2):    \n",
    "    print(\"Sentence {}:\".format(i + 1), data.X[i])\n",
    "    print()\n",
    "    print(\"Labels {}:\".format(i + 1), data.Y[i])\n",
    "    print()\n"
   ]
  },
  {
   "cell_type": "markdown",
   "metadata": {},
   "source": [
    "\n",
    "## Accessing (word, tag) Samples\n",
    "\n",
    "The `Dataset.stream()` method returns an iterator that chains together every pair of (word, tag) entries across all sentences in the entire corpus.\n"
   ]
  },
  {
   "cell_type": "code",
   "execution_count": 87,
   "metadata": {},
   "outputs": [
    {
     "name": "stdout",
     "output_type": "stream",
     "text": [
      "\n",
      "Stream (word, tag) pairs:\n",
      "\n",
      "\t ('Mr.', 'NOUN')\n",
      "\t ('Podger', 'NOUN')\n",
      "\t ('had', 'VERB')\n",
      "\t ('thanked', 'VERB')\n",
      "\t ('him', 'PRON')\n",
      "\t ('gravely', 'ADV')\n",
      "\t (',', '.')\n"
     ]
    }
   ],
   "source": [
    "# use Dataset.stream() (word, tag) samples for the entire corpus\n",
    "print(\"\\nStream (word, tag) pairs:\\n\")\n",
    "for i, pair in enumerate(data.stream()):\n",
    "    print(\"\\t\", pair)\n",
    "    if i > 5: break\n"
   ]
  },
  {
   "cell_type": "markdown",
   "metadata": {},
   "source": [
    "# Building Most Frequent Class tagger (MFC tagger)\n",
    "\n",
    "For both our baseline tagger and the HMM model we'll build, we need to estimate the frequency of tags & words from the frequency counts of observations in the training corpus. \n",
    "In the next several cells we will create functions to compute the counts of several sets of counts.\n",
    "\n",
    "<br>\n",
    "\n",
    "### How a MFC tagger works?\n",
    "Perhaps the simplest tagger (and a good baseline for tagger performance) is to simply choose the tag most frequently assigned to each word. This \"most frequent class\" tagger inspects each observed word in the sequence and assigns it the label that was most often assigned to that word in the corpus."
   ]
  },
  {
   "cell_type": "code",
   "execution_count": 88,
   "metadata": {},
   "outputs": [
    {
     "data": {
      "text/html": [
       "<div class=\"alert alert-block alert-success\">Your emission counts look good!</div>"
      ],
      "text/plain": [
       "<IPython.core.display.HTML object>"
      ]
     },
     "execution_count": 88,
     "metadata": {},
     "output_type": "execute_result"
    }
   ],
   "source": [
    "def pair_counts(words, tags):\n",
    "    \"\"\"Returns a dictionary keyed to each unique value in the first sequence list\n",
    "    that counts the number of occurrences of the corresponding value from the\n",
    "    second sequences list.\n",
    "    \n",
    "    For example, if sequences_A is tags and sequences_B is the corresponding\n",
    "    words, then if 1244 sequences contain the word \"time\" tagged as a NOUN, then\n",
    "    it would return a dictionary such that pair_counts[NOUN][time] == 1244\n",
    "    \"\"\"\n",
    "\n",
    "    emission_counts_dict ={}\n",
    "    temp_dict={}\n",
    "    for i in range(len(words)):\n",
    "        # print(i,\"\\n\\n\")\n",
    "        for j in range(len(words[i])):\n",
    "            # print(words[i][j],\"    =>    \",tags[i][j])\n",
    "            if tags[i][j] not in emission_counts_dict.keys():   # if there is no entry for that key in the dictionary\n",
    "                emission_counts_dict[tags[i][j]] = {words[i][j]:1}\n",
    "            if words[i][j] not in emission_counts_dict[tags[i][j]]: # if there is no entry for that words in the dictionary of its tag\n",
    "                emission_counts_dict[tags[i][j]].update({words[i][j]:1})\n",
    "\n",
    "            else: # if the words along with its tag is present, then to increase its count by 1\n",
    "                emission_counts_dict[tags[i][j]].update({words[i][j]:emission_counts_dict[tags[i][j]][words[i][j]]+1})\n",
    "\n",
    "\n",
    "    return emission_counts_dict\n",
    "\n",
    "emission_counts=pair_counts(data.X, data.Y)\n",
    "\n",
    "# pprint(emission_counts)\n",
    "assert len(emission_counts) == 12, \\\n",
    "       \"Uh oh. There should be 12 tags in your dictionary.\"\n",
    "\n",
    "assert max(emission_counts[\"NOUN\"], key=emission_counts[\"NOUN\"].get) == 'time', \\\n",
    "       \"Hmmm...'time' is expected to be the most common NOUN.\"\n",
    "\n",
    "HTML('<div class=\"alert alert-block alert-success\">Your emission counts look good!</div>')"
   ]
  },
  {
   "cell_type": "markdown",
   "metadata": {},
   "source": [
    "## Implementation of the MFC tagger\n",
    "\n",
    "Using the pair_counts() function and the training dataset to find the most frequent class label for each word in the training data, and populate the mfc_table below. The table keys would be words, and the values would be the appropriate tag string.\n",
    "\n",
    "The MFCTagger class is provided to mock the interface of Pomegranite HMM models so that they can be used interchangeably."
   ]
  },
  {
   "cell_type": "code",
   "execution_count": 101,
   "metadata": {},
   "outputs": [
    {
     "data": {
      "text/html": [
       "<div class=\"alert alert-block alert-success\">Your MFC tagger has all the correct words!</div>"
      ],
      "text/plain": [
       "<IPython.core.display.HTML object>"
      ]
     },
     "execution_count": 101,
     "metadata": {},
     "output_type": "execute_result"
    }
   ],
   "source": [
    "# Create a lookup table mfc_table where mfc_table[word] contains the tag label most frequently assigned to that word\n",
    "from collections import namedtuple\n",
    "\n",
    "FakeState = namedtuple(\"FakeState\", \"name\")\n",
    "\n",
    "\n",
    "class MFCTagger:\n",
    "    # NOTE: You should not need to modify this class or any of its methods\n",
    "    missing = FakeState(name=\"<MISSING>\")\n",
    "\n",
    "    def __init__(self, table):\n",
    "        # if the key is not found, then the value attached to the missing key will be \"<MISSING>\"\n",
    "        self.table = defaultdict(lambda: MFCTagger.missing)\n",
    "        # dictionary where the key is the word and the attahced value to the key is the namedtuple FakedState whose name arguement is the tag of that word which is the most frequent\n",
    "        self.table.update({word: FakeState(name=tag)\n",
    "                          for word, tag in table.items()})\n",
    "\n",
    "    def viterbi(self, seq):\n",
    "        \"\"\"This method simplifies predictions by matching the Pomegranate viterbi() interface\"\"\"\n",
    "        return 0., list(enumerate([\"<start>\"] + [self.table[w] for w in seq] + [\"<end>\"]))\n",
    "\n",
    "\n",
    "# calculating the frequency of each tag being assigned to each word (hint: similar, but not\n",
    "# the same as the emission probabilities) and use it to fill the mfc_table\n",
    "\n",
    "# this will return a dictionary of dictionaries where each insdie dictionary has the key the tag of that word and the number of the occurence of that tag with that word\n",
    "word_counts = pair_counts(data.training_set.Y, data.training_set.X)\n",
    "\n",
    "# print(word_counts)\n",
    "\n",
    "mfc_table = {}\n",
    "\n",
    "for i in word_counts:\n",
    "    # print(word_counts[i])\n",
    "    max_count = 0\n",
    "    for j in word_counts[i]:\n",
    "        # print(word_counts[i][j])\n",
    "        if (word_counts[i][j] > max_count):\n",
    "            # print(i,\" ==> \", j)\n",
    "            mfc_table[i] = j\n",
    "            max_count = word_counts[i][j]\n",
    "\n",
    "\n",
    "# pprint(mfc_table)\n",
    "\n",
    "# Create a Most Frequent Class tagger instance\n",
    "mfc_model = MFCTagger(mfc_table)\n",
    "\n",
    "# for i in mfc_model:\n",
    "#     print(i)\n",
    "\n",
    "assert len(mfc_table) == len(data.training_set.vocab), \"\"\n",
    "assert all(k in data.training_set.vocab for k in mfc_table.keys()), \"\"\n",
    "assert sum(int(k not in mfc_table) for k in data.testing_set.vocab) == 5635, \"\"\n",
    "HTML('<div class=\"alert alert-block alert-success\">Your MFC tagger has all the correct words!</div>')\n"
   ]
  },
  {
   "cell_type": "markdown",
   "metadata": {},
   "source": [
    "## Overcoming an issue in pomegranate\n",
    "\n",
    "The helper functions provided below interface with Pomegranate network models & the mocked MFCTagger to take advantage of the <a href =\"https://pomegranate.readthedocs.io/en/latest/nan.html\" target=\"_blank\">missing value  </a>functionality in Pomegranate through a simple sequence decoding function. Run these functions, then run the next cell to see some of the predictions made by the MFC tagger."
   ]
  },
  {
   "cell_type": "code",
   "execution_count": 90,
   "metadata": {},
   "outputs": [],
   "source": [
    "def replace_unknown(sequence):\n",
    "    \"\"\"Return a copy of the input sequence where each unknown word is replaced\n",
    "    by the literal string value 'nan'. Pomegranate will ignore these values\n",
    "    during computation.\n",
    "    \"\"\"\n",
    "    return [w if w in data.training_set.vocab else 'nan' for w in sequence]\n",
    "\n",
    "\n",
    "def simplify_decoding(X, model):\n",
    "    \"\"\"X should be a 1-D sequence of observations for the model to predict\"\"\"\n",
    "    _, state_path = model.viterbi(replace_unknown(X))\n",
    "    # do not show the start/end state predictions\n",
    "    return [state[1].name for state in state_path[1:-1]]\n"
   ]
  },
  {
   "cell_type": "markdown",
   "metadata": {},
   "source": [
    "## Decoding sequences with MFC tagger"
   ]
  },
  {
   "cell_type": "code",
   "execution_count": 91,
   "metadata": {},
   "outputs": [
    {
     "name": "stdout",
     "output_type": "stream",
     "text": [
      "Sentence Key: b100-37269\n",
      "\n",
      "Predicted labels:\n",
      "-----------------\n",
      "['DET', 'ADJ', 'NOUN', 'VERB', 'ADP', 'NOUN', '.', 'CONJ', 'PRT', 'VERB', 'ADJ', 'NOUN', 'NOUN', 'ADP', 'DET', 'ADJ', '.']\n",
      "\n",
      "Actual labels:\n",
      "--------------\n",
      "('DET', 'ADJ', 'NOUN', 'VERB', 'ADP', 'NOUN', '.', 'CONJ', 'PRT', 'VERB', 'ADJ', 'NOUN', 'NOUN', 'ADP', 'DET', 'ADJ', '.')\n",
      "\n",
      "\n",
      "Sentence Key: b100-28144\n",
      "\n",
      "Predicted labels:\n",
      "-----------------\n",
      "['CONJ', 'NOUN', 'NUM', '.', 'NOUN', 'NUM', '.', 'NOUN', 'NUM', '.', 'CONJ', 'NOUN', 'NUM', '.', '.', 'NOUN', '.', '.']\n",
      "\n",
      "Actual labels:\n",
      "--------------\n",
      "('CONJ', 'NOUN', 'NUM', '.', 'NOUN', 'NUM', '.', 'NOUN', 'NUM', '.', 'CONJ', 'NOUN', 'NUM', '.', '.', 'NOUN', '.', '.')\n",
      "\n",
      "\n",
      "Sentence Key: b100-23146\n",
      "\n",
      "Predicted labels:\n",
      "-----------------\n",
      "['PRON', 'VERB', 'DET', 'NOUN', 'ADP', 'ADJ', 'ADJ', 'NOUN', 'VERB', 'VERB', '.', 'ADP', 'VERB', 'DET', 'NOUN', 'ADP', 'NOUN', 'ADP', 'DET', 'NOUN', '.']\n",
      "\n",
      "Actual labels:\n",
      "--------------\n",
      "('PRON', 'VERB', 'DET', 'NOUN', 'ADP', 'ADJ', 'ADJ', 'NOUN', 'VERB', 'VERB', '.', 'ADP', 'VERB', 'DET', 'NOUN', 'ADP', 'NOUN', 'ADP', 'DET', 'NOUN', '.')\n",
      "\n",
      "\n"
     ]
    }
   ],
   "source": [
    "for key in data.testing_set.keys[:3]:\n",
    "    print(\"Sentence Key: {}\\n\".format(key))\n",
    "    print(\"Predicted labels:\\n-----------------\")\n",
    "    print(simplify_decoding(data.sentences[key].words, mfc_model))\n",
    "    print()\n",
    "    print(\"Actual labels:\\n--------------\")\n",
    "    print(data.sentences[key].tags)\n",
    "    print(\"\\n\")"
   ]
  },
  {
   "cell_type": "markdown",
   "metadata": {},
   "source": [
    "### Evaluating the accuracy of the MFC tagger model\n",
    "\n",
    "The function below will evaluate the accuracy of the MFC tagger on the collection of all sentences from a text corpus."
   ]
  },
  {
   "cell_type": "code",
   "execution_count": 92,
   "metadata": {},
   "outputs": [],
   "source": [
    "\n",
    "\n",
    "def accuracy(X, Y, model):\n",
    "    \"\"\"Calculate the prediction accuracy by using the model to decode each sequence\n",
    "    in the input X and comparing the prediction with the true labels in Y.\n",
    "    \n",
    "    The X should be an array whose first dimension is the number of sentences to test,\n",
    "    and each element of the array should be an iterable of the words in the sequence.\n",
    "    The arrays X and Y should have the exact same shape.\n",
    "    \n",
    "    X = [(\"See\", \"Spot\", \"run\"), (\"Run\", \"Spot\", \"run\", \"fast\"), ...]\n",
    "    Y = [(), (), ...]\n",
    "    \"\"\"\n",
    "    correct = total_predictions = 0\n",
    "    for observations, actual_tags in zip(X, Y):\n",
    "        \n",
    "        # The model.viterbi call in simplify_decoding will return None if the HMM\n",
    "        # raises an error (for example, if a test sentence contains a word that\n",
    "        # is out of vocabulary for the training set). Any exception counts the\n",
    "        # full sentence as an error (which makes this a conservative estimate).\n",
    "        try:\n",
    "            most_likely_tags = simplify_decoding(observations, model)\n",
    "            correct += sum(p == t for p, t in zip(most_likely_tags, actual_tags))\n",
    "        except:\n",
    "            pass\n",
    "        total_predictions += len(observations)\n",
    "    return correct / total_predictions\n",
    "\n"
   ]
  },
  {
   "cell_type": "markdown",
   "metadata": {},
   "source": [
    "\n",
    "### Evaluate the accuracy of the MFC tagger\n",
    "\n",
    "Run the next cell to evaluate the accuracy of the tagger on the training and test corpus.\n"
   ]
  },
  {
   "cell_type": "code",
   "execution_count": 93,
   "metadata": {},
   "outputs": [
    {
     "name": "stdout",
     "output_type": "stream",
     "text": [
      "training accuracy mfc_model: 95.71%\n",
      "testing accuracy mfc_model: 92.95%\n"
     ]
    },
    {
     "data": {
      "text/html": [
       "<div class=\"alert alert-block alert-success\">Your MFC tagger accuracy looks correct!</div>"
      ],
      "text/plain": [
       "<IPython.core.display.HTML object>"
      ]
     },
     "execution_count": 93,
     "metadata": {},
     "output_type": "execute_result"
    }
   ],
   "source": [
    "mfc_training_acc = accuracy(data.training_set.X, data.training_set.Y, mfc_model)\n",
    "print(\"training accuracy mfc_model: {:.2f}%\".format(100 * mfc_training_acc))\n",
    "\n",
    "mfc_testing_acc = accuracy(data.testing_set.X, data.testing_set.Y, mfc_model)\n",
    "print(\"testing accuracy mfc_model: {:.2f}%\".format(100 * mfc_testing_acc))\n",
    "\n",
    "assert mfc_training_acc >= 0.955, \"Uh oh. Your MFC accuracy on the training set doesn't look right.\"\n",
    "assert mfc_testing_acc >= 0.925, \"Uh oh. Your MFC accuracy on the testing set doesn't look right.\"\n",
    "HTML('<div class=\"alert alert-block alert-success\">Your MFC tagger accuracy looks correct!</div>')\n"
   ]
  },
  {
   "cell_type": "markdown",
   "metadata": {},
   "source": [
    "***\n",
    "## Building the HMM tagger\n",
    "\n",
    "The HMM tagger has one hidden state for each possible tag, and parameterized by two distributions: \n",
    "* the emission probabilties giving the conditional probability of observing a given word from each hidden state (basically the MFC tagger we made above)\n",
    "* the transition probabilities giving the conditional probability of moving between tags during the sequence.\n",
    "\n",
    "We will also estimate the starting probability distribution (the probability of each tag being the first tag in a sequence), and the terminal probability distribution (the probability of each tag being the last tag in a sequence).\n",
    "\n",
    "The maximum likelihood estimate of these distributions can be calculated from the frequency counts as described in the following sections where you'll implement functions to count the frequencies, and finally build the model. The HMM model will make predictions according to the formula:\n",
    "\n",
    "<img src=\"hmm_formula.png\">\n",
    "\n",
    "<br>\n",
    "\n",
    "***\n",
    "\n"
   ]
  },
  {
   "cell_type": "markdown",
   "metadata": {},
   "source": [
    "*** \n",
    "## Unigram Counting\n",
    "Estimating the co-occurence frequency of each symbol over all of the input sentences, where\n",
    "\n",
    "<img src=\"unigram_formula.png\">"
   ]
  },
  {
   "cell_type": "code",
   "execution_count": 94,
   "metadata": {},
   "outputs": [
    {
     "name": "stdout",
     "output_type": "stream",
     "text": [
      "{'DET': 109608, 'NOUN': 220754, 'VERB': 146138, 'ADP': 115857, 'ADJ': 66761, 'ADV': 44863, '.': 117718, 'PRT': 23866, 'PRON': 39369, 'CONJ': 30552, 'NUM': 11893, 'X': 1099}\n"
     ]
    },
    {
     "data": {
      "text/html": [
       "<div class=\"alert alert-block alert-success\">Your tag unigrams look good!</div>"
      ],
      "text/plain": [
       "<IPython.core.display.HTML object>"
      ]
     },
     "execution_count": 94,
     "metadata": {},
     "output_type": "execute_result"
    }
   ],
   "source": [
    "def unigram_counts(sequences):\n",
    "    \"\"\"Return a dictionary keyed to each unique value in the input sequence list that\n",
    "    counts the number of occurrences of the value in the sequences list. The sequences\n",
    "    collection should be a 2-dimensional array.\n",
    "    \n",
    "    For example, if the tag NOUN appears 275558 times over all the input sequences,\n",
    "    then you should return a dictionary such that your_unigram_counts[NOUN] == 275558.\n",
    "    \"\"\"\n",
    "    tag_unigrams={}\n",
    "    for i in sequences:\n",
    "        # print(i)\n",
    "        for j in i:\n",
    "            if j not in tag_unigrams :\n",
    "                tag_unigrams[j]=1\n",
    "            else :\n",
    "                tag_unigrams[j] = tag_unigrams[j]+1\n",
    "    return tag_unigrams\n",
    "\n",
    "    \n",
    "    # raise NotImplementedError\n",
    "\n",
    "# calling unigram_counts with a list of tag sequences from the training set\n",
    "tag_unigrams = unigram_counts(data.training_set.Y)\n",
    "\n",
    "print(tag_unigrams)\n",
    "\n",
    "assert set(tag_unigrams.keys()) == data.training_set.tagset, \\\n",
    "       \"Uh oh. It looks like your tag counts doesn't include all the tags!\"\n",
    "assert min(tag_unigrams, key=tag_unigrams.get) == 'X', \\\n",
    "       \"Hmmm...'X' is expected to be the least common class\"\n",
    "assert max(tag_unigrams, key=tag_unigrams.get) == 'NOUN', \\\n",
    "       \"Hmmm...'NOUN' is expected to be the most common class\"\n",
    "HTML('<div class=\"alert alert-block alert-success\">Your tag unigrams look good!</div>')"
   ]
  },
  {
   "cell_type": "markdown",
   "metadata": {},
   "source": [
    "## Bigram Counting\n",
    "To estimate the co-occurence frequency of each pair of symbols in each of the input sentences. These counts are used in the HMM model to estimate the bigram probability of two tags from the frequency counts according to the formula :\n",
    "\n",
    "<img src = \"bigram_formula.png\">"
   ]
  },
  {
   "cell_type": "code",
   "execution_count": 95,
   "metadata": {},
   "outputs": [
    {
     "data": {
      "text/html": [
       "<div class=\"alert alert-block alert-success\">Your tag bigrams look good!</div>"
      ],
      "text/plain": [
       "<IPython.core.display.HTML object>"
      ]
     },
     "execution_count": 95,
     "metadata": {},
     "output_type": "execute_result"
    }
   ],
   "source": [
    "def bigram_counts(sequences):\n",
    "       \"\"\"Return a dictionary keyed to each unique PAIR of values in the input sequences\n",
    "       list that counts the number of occurrences of pair in the sequences list. The input\n",
    "       should be a 2-dimensional array.\n",
    "\n",
    "       For example, if the pair of tags (NOUN, VERB) appear 61582 times, then you should\n",
    "       return a dictiona\n",
    "       try such that your_bigram_counts[(NOUN, VERB)] == 61582\n",
    "       \"\"\"\n",
    "       tag_bigrams={}\n",
    "       for sentence_tags in sequences:\n",
    "              for i in range(len(sentence_tags)):\n",
    "                     if(i>0):\n",
    "                            if((sentence_tags[i-1], sentence_tags[i]) not in tag_bigrams):\n",
    "                                   tag_bigrams[(sentence_tags[i-1], sentence_tags[i])]=1\n",
    "                            else:\n",
    "                                   tag_bigrams[(sentence_tags[i-1], sentence_tags[i])]+=1\n",
    "\n",
    "       return tag_bigrams\n",
    "\n",
    "\n",
    "# TODO: call bigram_counts with a list of tag sequences from the training set\n",
    "tag_bigrams = bigram_counts(data.training_set.Y)\n",
    "\n",
    "assert len(tag_bigrams) == 144, \\\n",
    "       \"Uh oh. There should be 144 pairs of bigrams (12 tags x 12 tags)\"\n",
    "assert min(tag_bigrams, key=tag_bigrams.get) in [('X', 'NUM'), ('PRON', 'X')], \\\n",
    "       \"Hmmm...The least common bigram should be one of ('X', 'NUM') or ('PRON', 'X').\"\n",
    "assert max(tag_bigrams, key=tag_bigrams.get) in [('DET', 'NOUN')], \\\n",
    "       \"Hmmm...('DET', 'NOUN') is expected to be the most common bigram.\"\n",
    "HTML('<div class=\"alert alert-block alert-success\">Your tag bigrams look good!</div>')\n"
   ]
  },
  {
   "cell_type": "markdown",
   "metadata": {},
   "source": [
    "***\n",
    "## Sequence starting counts\n",
    "\n",
    "To estimate the bigram probabilities of a sequence starting with each tag.\n",
    "\n",
    "***"
   ]
  },
  {
   "cell_type": "code",
   "execution_count": 96,
   "metadata": {},
   "outputs": [
    {
     "data": {
      "text/html": [
       "<div class=\"alert alert-block alert-success\">Your starting tag counts look good!</div>"
      ],
      "text/plain": [
       "<IPython.core.display.HTML object>"
      ]
     },
     "execution_count": 96,
     "metadata": {},
     "output_type": "execute_result"
    }
   ],
   "source": [
    "def starting_counts(sequences):\n",
    "    \"\"\"Return a dictionary keyed to each unique value in the input sequences list\n",
    "    that counts the number of occurrences where that value is at the beginning of\n",
    "    a sequence.\n",
    "    \n",
    "    For example, if 8093 sequences start with NOUN, then you should return a\n",
    "    dictionary such that your_starting_counts[NOUN] == 8093\n",
    "    \"\"\"\n",
    "    tag_starts={}\n",
    "    for sentence_tags in sequences:\n",
    "        if(sentence_tags[0] not in tag_starts):\n",
    "            tag_starts[sentence_tags[0]]=1\n",
    "        else:\n",
    "            tag_starts[sentence_tags[0]]+=1\n",
    "    \n",
    "    return tag_starts\n",
    "\n",
    "# TODO: Calculate the count of each tag starting a sequence\n",
    "tag_starts = starting_counts(data.training_set.Y)\n",
    "\n",
    "assert len(tag_starts) == 12, \"Uh oh. There should be 12 tags in your dictionary.\"\n",
    "assert min(tag_starts, key=tag_starts.get) == 'X', \"Hmmm...'X' is expected to be the least common starting bigram.\"\n",
    "assert max(tag_starts, key=tag_starts.get) == 'DET', \"Hmmm...'DET' is expected to be the most common starting bigram.\"\n",
    "HTML('<div class=\"alert alert-block alert-success\">Your starting tag counts look good!</div>')"
   ]
  },
  {
   "cell_type": "markdown",
   "metadata": {},
   "source": [
    "***\n",
    "## Sequence ending counts\n",
    "To estimate the bigram probabilities of a sequence ending with each tag.\n",
    "\n",
    "***"
   ]
  },
  {
   "cell_type": "code",
   "execution_count": 97,
   "metadata": {},
   "outputs": [
    {
     "data": {
      "text/html": [
       "<div class=\"alert alert-block alert-success\">Your ending tag counts look good!</div>"
      ],
      "text/plain": [
       "<IPython.core.display.HTML object>"
      ]
     },
     "execution_count": 97,
     "metadata": {},
     "output_type": "execute_result"
    }
   ],
   "source": [
    "def ending_counts(sequences):\n",
    "    \"\"\"Return a dictionary keyed to each unique value in the input sequences list\n",
    "    that counts the number of occurrences where that value is at the end of\n",
    "    a sequence.\n",
    "    \n",
    "    For example, if 18 sequences end with DET, then you should return a\n",
    "    dictionary such that your_starting_counts[DET] == 18\n",
    "    \"\"\"\n",
    "    tag_ends={}\n",
    "    for sentence_tags in sequences:\n",
    "        if(sentence_tags[-1] not in tag_ends):\n",
    "            tag_ends[sentence_tags[-1]]=1\n",
    "        else:\n",
    "            tag_ends[sentence_tags[-1]]+=1\n",
    "    \n",
    "    return tag_ends\n",
    "\n",
    "# TODO: Calculate the count of each tag ending a sequence\n",
    "tag_ends = ending_counts(data.training_set.Y)\n",
    "\n",
    "assert len(tag_ends) == 12, \"Uh oh. There should be 12 tags in your dictionary.\"\n",
    "assert min(tag_ends, key=tag_ends.get) in ['X', 'CONJ'], \"Hmmm...'X' or 'CONJ' should be the least common ending bigram.\"\n",
    "assert max(tag_ends, key=tag_ends.get) == '.', \"Hmmm...'.' is expected to be the most common ending bigram.\"\n",
    "HTML('<div class=\"alert alert-block alert-success\">Your ending tag counts look good!</div>')\n"
   ]
  },
  {
   "cell_type": "markdown",
   "metadata": {},
   "source": [
    "## Implementing a basic HMM tagger\n",
    "\n",
    "Using the tag unigrams and bigrams calculated above to construct a HMM\n",
    "\n",
    "* Add one state per tag\n",
    "    * The emission distribution at each state should be estimated with the formula : `P(w|t) = C(t,w)/C(t)`\n",
    "\n",
    "<br>\n",
    "\n",
    "* Add an edge from the starting state basic_model.start to each tag\n",
    "    * The transition probability should be estimated with the formula : `P(t|start) = C(start,t)/C(start)`\n",
    "\n",
    "<br>\n",
    "\n",
    "* Add an edge from each tag to the end state basic_model.end\n",
    "    * The transition probability should be estimated with the formula : `P(end|t) = C(t,end)/C(t)`\n",
    "\n",
    "<br>\n",
    "\n",
    "* Add an edge between every pair of tags\n",
    "    * The transition probability should be estimated with the formula : `P(t2|t1) = C(t1,t2)/C(t1)`"
   ]
  },
  {
   "cell_type": "code",
   "execution_count": 98,
   "metadata": {},
   "outputs": [
    {
     "name": "stdout",
     "output_type": "stream",
     "text": [
      "0.9699098955494907\n",
      "0.9537469443167513\n"
     ]
    },
    {
     "data": {
      "text/html": [
       "<div class=\"alert alert-block alert-success\">Your HMM tagger accuracy looks correct! Congratulations, you've finished the project.</div>"
      ],
      "text/plain": [
       "<IPython.core.display.HTML object>"
      ]
     },
     "execution_count": 98,
     "metadata": {},
     "output_type": "execute_result"
    }
   ],
   "source": [
    "from operator import ilshift\n",
    "\n",
    "\n",
    "basic_model = HiddenMarkovModel(name=\"base-hmm-tagger\")\n",
    "\n",
    "# Creating states with emission probability distributions P(word | tag) and add to the model\n",
    "tag_counts = pair_counts(data.training_set.X, data.training_set.Y)\n",
    "# pprint(tag_counts)\n",
    "countingg = 0\n",
    "# to convert them into their probabilities\n",
    "for i in tag_counts:\n",
    "    for j in tag_counts[i]:\n",
    "        tag_counts[i][j] /= data.training_set.N\n",
    "\n",
    "states_dict = {}\n",
    "tags_states_dict = {}\n",
    "for i in tag_counts:\n",
    "    states_dict = {}\n",
    "    # pprint(tag_counts[i])\n",
    "    states_dict = tag_counts[i]\n",
    "\n",
    "    # pprint(states_dict)\n",
    "    emissions = DiscreteDistribution(states_dict)\n",
    "    states = State(emissions, name=i)\n",
    "    tags_states_dict[i] = states\n",
    "    basic_model.add_state(states)\n",
    "\n",
    "\n",
    "# Adding edges between states for the observed transition frequencies P(tag_i | tag_i-1)\n",
    "\n",
    "for i in tag_starts:\n",
    "    # print(\"Start, \", i, \" ==> \", tag_starts[i]/len(data.training_set))\n",
    "    basic_model.add_transition(\n",
    "        basic_model.start, tags_states_dict[i], tag_starts[i]/len(data.training_set))\n",
    "\n",
    "\n",
    "for i in tag_bigrams:\n",
    "    # print(i[0],\" , \",i[1],\" ==> \", ((tag_bigrams[i]*2)/data.training_set.N))\n",
    "    basic_model.add_transition(\n",
    "        tags_states_dict[i[0]], tags_states_dict[i[1]], ((tag_bigrams[i]*2)/data.training_set.N))\n",
    "\n",
    "for i in tag_ends:\n",
    "    # print(i, \" , End ==>\", tag_ends[i]/len(data.training_set))\n",
    "    basic_model.add_transition(\n",
    "        tags_states_dict[i], basic_model.end, tag_ends[i]/len(data.training_set))\n",
    "    # countingg+=tag_ends[i]/len(data.training_set)\n",
    "\n",
    "# print(\"countingggg ==> \",countingg)\n",
    "\n",
    "\n",
    "# finalizing the model\n",
    "basic_model.bake()\n",
    "\n",
    "assert all(tag in set(s.name for s in basic_model.states) for tag in data.training_set.tagset), \\\n",
    "    \"Every state in your network should use the name of the associated tag, which must be one of the training set tags.\"\n",
    "assert basic_model.edge_count() == 168, \\\n",
    "    (\"Your network should have an edge from the start node to each state, one edge between every \" +\n",
    "        \"pair of tags (states), and an edge from each state to the end node.\")\n",
    "HTML('<div class=\"alert alert-block alert-success\">Your HMM network topology looks good!</div>')\n",
    "\n",
    "hmm_training_acc = accuracy(\n",
    "    data.training_set.X, data.training_set.Y, basic_model)\n",
    "# print(\"training accuracy basic hmm model: {:.2f}%\".format(\n",
    "# 100 * hmm_training_acc))\n",
    "\n",
    "hmm_testing_acc = accuracy(data.testing_set.X, data.testing_set.Y, basic_model)\n",
    "# print(\"testing accuracy basic hmm model: {:.2f}%\".format(\n",
    "# 100 * hmm_testing_acc))\n",
    "\n",
    "\n",
    "print(hmm_training_acc)\n",
    "print(hmm_testing_acc)\n",
    "\n",
    "assert hmm_training_acc > 0.965, \"Uh oh. Your HMM accuracy on the training set doesn't look right.\"\n",
    "assert hmm_testing_acc > 0.95, \"Uh oh. Your HMM accuracy on the training set doesn't look right.\"\n",
    "HTML('<div class=\"alert alert-block alert-success\">Your HMM tagger accuracy looks correct! Congratulations, you\\'ve finished the project.</div>')\n",
    "#\n"
   ]
  },
  {
   "cell_type": "code",
   "execution_count": 99,
   "metadata": {},
   "outputs": [
    {
     "name": "stdout",
     "output_type": "stream",
     "text": [
      "Sentence Key: b100-37269\n",
      "\n",
      "Predicted labels:\n",
      "-----------------\n",
      "['DET', 'ADJ', 'NOUN', 'VERB', 'ADP', 'NOUN', '.', 'CONJ', 'PRT', 'VERB', 'ADJ', 'NOUN', 'NOUN', 'ADP', 'DET', 'ADJ', '.']\n",
      "\n",
      "Actual labels:\n",
      "--------------\n",
      "('DET', 'ADJ', 'NOUN', 'VERB', 'ADP', 'NOUN', '.', 'CONJ', 'PRT', 'VERB', 'ADJ', 'NOUN', 'NOUN', 'ADP', 'DET', 'ADJ', '.')\n",
      "\n",
      "\n",
      "Sentence Key: b100-28144\n",
      "\n",
      "Predicted labels:\n",
      "-----------------\n",
      "['CONJ', 'NOUN', 'NUM', '.', 'NOUN', 'NUM', '.', 'NOUN', 'NUM', '.', 'CONJ', 'NOUN', 'NUM', '.', '.', 'NOUN', '.', '.']\n",
      "\n",
      "Actual labels:\n",
      "--------------\n",
      "('CONJ', 'NOUN', 'NUM', '.', 'NOUN', 'NUM', '.', 'NOUN', 'NUM', '.', 'CONJ', 'NOUN', 'NUM', '.', '.', 'NOUN', '.', '.')\n",
      "\n",
      "\n",
      "Sentence Key: b100-23146\n",
      "\n",
      "Predicted labels:\n",
      "-----------------\n",
      "['PRON', 'VERB', 'DET', 'NOUN', 'ADP', 'ADJ', 'ADJ', 'NOUN', 'VERB', 'VERB', '.', 'ADP', 'VERB', 'DET', 'NOUN', 'ADP', 'NOUN', 'ADP', 'DET', 'NOUN', '.']\n",
      "\n",
      "Actual labels:\n",
      "--------------\n",
      "('PRON', 'VERB', 'DET', 'NOUN', 'ADP', 'ADJ', 'ADJ', 'NOUN', 'VERB', 'VERB', '.', 'ADP', 'VERB', 'DET', 'NOUN', 'ADP', 'NOUN', 'ADP', 'DET', 'NOUN', '.')\n",
      "\n",
      "\n"
     ]
    }
   ],
   "source": [
    "for key in data.testing_set.keys[:3]:\n",
    "    print(\"Sentence Key: {}\\n\".format(key))\n",
    "    print(\"Predicted labels:\\n-----------------\")\n",
    "    print(simplify_decoding(data.sentences[key].words, basic_model))\n",
    "    print()\n",
    "    print(\"Actual labels:\\n--------------\")\n",
    "    print(data.sentences[key].tags)\n",
    "    print(\"\\n\")"
   ]
  },
  {
   "cell_type": "markdown",
   "metadata": {},
   "source": [
    "## Improving model performance\n",
    "\n",
    "Other methods can be used to improve the performance on the larger tagsets where the data sparsity problem is more significant (more missing data tags that have zero occurrences in the data)\n",
    "\n",
    "* Laplace Smoothing\n",
    "    * Adding a small, non-zero value to all the observed counts to offset for unobserved values\n",
    "\n",
    "<br>\n",
    "\n",
    "* Backoff Smoothing\n",
    "    * Interpolating between n-grams for missing data\n",
    "    * Refer to chapter 4,9,10 of <a href=\"https://web.stanford.edu/~jurafsky/slp3/\">Jurafsky Martin </a> to know more\n",
    "\n",
    "<br>\n",
    "\n",
    "* Using trigrams instead of bigrams\n",
    "    * Consering three consecutive states instead of two"
   ]
  }
 ],
 "metadata": {
  "kernelspec": {
   "display_name": "Python 3.10.5 64-bit",
   "language": "python",
   "name": "python3"
  },
  "language_info": {
   "codemirror_mode": {
    "name": "ipython",
    "version": 3
   },
   "file_extension": ".py",
   "mimetype": "text/x-python",
   "name": "python",
   "nbconvert_exporter": "python",
   "pygments_lexer": "ipython3",
   "version": "3.10.6"
  },
  "orig_nbformat": 4,
  "vscode": {
   "interpreter": {
    "hash": "e7370f93d1d0cde622a1f8e1c04877d8463912d04d973331ad4851f04de6915a"
   }
  }
 },
 "nbformat": 4,
 "nbformat_minor": 2
}
