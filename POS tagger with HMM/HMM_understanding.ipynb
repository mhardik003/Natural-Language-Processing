{
 "cells": [
  {
   "cell_type": "markdown",
   "metadata": {},
   "source": [
    "## Building a simple HMM network\n",
    "\n",
    "Refer to <a href=\"https://mhardik003.notion.site/NLP-751ad844946e499c9c64445a1254f648\" target=\"_blank\"> my notion page</a> for more details and explanation\n",
    "\n",
    "***\n",
    "\n",
    "### PROBLEM STATEMENT\n",
    "\n",
    "`You are the security guard stationed at a secret under-ground installation. Each day, you try to guess whether it’s raining today, but your only access to the outside world occurs each morning when you see the director coming in with, or without, an umbrella.`\n",
    "\n",
    "In this problem, *t* corresponds to each day of the week and the hidden state represent the weather outside (whether it is Rainy or Sunny) and observations record whether the security guard sees the director carrying an umbrella or not.\n",
    "\n",
    "For example, during some particular week the guard may observe an umbrella ['yes', 'no', 'yes', 'no', 'yes'] on Monday-Friday, while the weather outside is ['Rainy', 'Sunny', 'Sunny', 'Sunny', 'Rainy']. In that case,\n",
    ", , and . (It might be surprising that the guard would observe an umbrella on a sunny day, but it is possible under this type of model.)\n",
    "\n",
    "\n",
    "***"
   ]
  },
  {
   "cell_type": "code",
   "execution_count": 17,
   "metadata": {},
   "outputs": [
    {
     "name": "stdout",
     "output_type": "stream",
     "text": [
      "The autoreload extension is already loaded. To reload it, use:\n",
      "  %reload_ext autoreload\n"
     ]
    }
   ],
   "source": [
    "%load_ext autoreload\n",
    "%aimport helpers\n",
    "%autoreload 1"
   ]
  },
  {
   "cell_type": "code",
   "execution_count": 18,
   "metadata": {},
   "outputs": [],
   "source": [
    "# %load_ext autoreload #reloads modules automatically before entering the execution of code typed at the IPython prompt.\n",
    "\n",
    "# %autoreload 1\n",
    "#Reload all modules imported with %aimport every time before executing the Python code typed."
   ]
  },
  {
   "cell_type": "markdown",
   "metadata": {},
   "source": [
    "We will be using python's <a href =\"https://pomegranate.readthedocs.io/en/latest/index.html\" target=\"_blank\" >pomegranate library</a> for making the probability calculations easy for us."
   ]
  },
  {
   "cell_type": "code",
   "execution_count": 19,
   "metadata": {},
   "outputs": [
    {
     "name": "stdout",
     "output_type": "stream",
     "text": [
      "Defaulting to user installation because normal site-packages is not writeable\n",
      "Requirement already satisfied: pomegranate in /usr/local/lib/python3.10/dist-packages (0.14.8)\n",
      "Requirement already satisfied: pyyaml in /usr/lib/python3/dist-packages (from pomegranate) (5.4.1)\n",
      "Requirement already satisfied: numpy>=1.20.0 in /usr/lib/python3/dist-packages (from pomegranate) (1.21.5)\n",
      "Requirement already satisfied: scipy>=0.17.0 in /usr/lib/python3/dist-packages (from pomegranate) (1.7.3)\n",
      "Requirement already satisfied: joblib>=0.9.0b4 in /usr/local/lib/python3.10/dist-packages (from pomegranate) (1.1.0)\n",
      "Requirement already satisfied: networkx>=2.4 in /usr/lib/python3/dist-packages (from pomegranate) (2.6.3)\n"
     ]
    }
   ],
   "source": [
    "!pip3 install pomegranate"
   ]
  },
  {
   "cell_type": "markdown",
   "metadata": {},
   "source": [
    "### Importing the necessary libraries"
   ]
  },
  {
   "cell_type": "code",
   "execution_count": 20,
   "metadata": {},
   "outputs": [],
   "source": [
    "import matplotlib.pyplot as plt\n",
    "import matplotlib.image as mplimg\n",
    "import numpy as np\n",
    "\n",
    "from helpers import show_model\n",
    "from pomegranate import State, HiddenMarkovModel, DiscreteDistribution"
   ]
  },
  {
   "cell_type": "markdown",
   "metadata": {},
   "source": [
    "***\n",
    "\n",
    "We need to assume that we have some prior knowledge (possibly from a data set) about the director's behavior to estimate the emission probabilities for each hidden state. In real problems you can often estimate the emission probabilities empirically, which is what we'll do for the part of speech tagger. Our imaginary data will produce the conditional probability table below. (Note that the rows sum to 1.0)\n",
    "\n",
    "Here we will assumen that\n",
    "\n",
    "* Probability that the director brings the umbrella when its sunny is 0.10\n",
    "* Therefore the probability that he doesnt bring the umbrella when it sunny is 0.90\n",
    "* Probability that the director brings the umbrella when its rainy is 0.80\n",
    "* Therefore the probability that he doesnt bring the umbrella when it rainy is 0.20\n",
    "\n",
    "***"
   ]
  },
  {
   "cell_type": "code",
   "execution_count": 21,
   "metadata": {},
   "outputs": [
    {
     "name": "stdout",
     "output_type": "stream",
     "text": [
      "Looks good so far!\n"
     ]
    }
   ],
   "source": [
    "# creating the model\n",
    "model = HiddenMarkovModel(name=\"Example Model\")\n",
    "\n",
    "# adding the probabilities to the model\n",
    "sunny_emissions = DiscreteDistribution({\"yes\": 0.1, \"no\": 0.9})\n",
    "sunny_state = State(sunny_emissions, name=\"Sunny\")\n",
    "\n",
    "rainy_emissions = DiscreteDistribution({\"yes\": 0.8, \"no\": 0.2})\n",
    "rainy_state = State(rainy_emissions, name=\"Rainy\")\n",
    "\n",
    "\n",
    "# adding the states to our Sample HMM\n",
    "model.add_states(sunny_state, rainy_state)\n",
    "\n",
    "assert rainy_emissions.probability(\"yes\") == 0.8, \"The director brings his umbrella with probability 0.8 on rainy days\"\n",
    "print(\"Looks good so far!\")\n"
   ]
  },
  {
   "cell_type": "markdown",
   "metadata": {},
   "source": [
    "***\n",
    "Above we added the emission probabilities,\n",
    "Now we will add the transition probabilities.\n",
    "\n",
    "* `Initial Probability `:  We will assume that we don't know anything useful about the likelihood of a sequence starting in either state. If the sequences start each week on Monday and end each week on Friday (so each week is a new sequence), then this assumption means that it's equally likely that the weather on a Monday may be Rainy or Sunny. We can assign equal probability to each starting state by setting     \n",
    "\n",
    "    * Probability that it is rainy on monday = 0.5\n",
    "    * Probability that is is sunny on monday = 0.5\n",
    "\n",
    "<br>\n",
    "\n",
    "* `State transition probability ` : \n",
    "    Finally, we will assume for this example that we can estimate transition probabilities from something like historical weather data for the area. In real problems you can often use the structure of the problem (like a language grammar) to impose restrictions on the transition probabilities, then re-estimate the parameters with the same training data used to estimate the emission probabilities. Under this assumption, we get the conditional probability table below. (Note that the rows sum to 1.0)\n",
    "    \n",
    "    * Probability for sunny => sunny day is 0.80\n",
    "    * Probability for rainy => sunny day is 0.20\n",
    "    * Probability for sunny => rainy day is 0.40\n",
    "    * Probability for rainy => rainy day is 0.60\n",
    "\n",
    "***"
   ]
  },
  {
   "cell_type": "code",
   "execution_count": 22,
   "metadata": {},
   "outputs": [
    {
     "name": "stdout",
     "output_type": "stream",
     "text": [
      "Great! We've finished the model.\n"
     ]
    }
   ],
   "source": [
    "# create edges for each possible state transition in the model\n",
    "# equal probability of a sequence starting on either a rainy or sunny day\n",
    "model.add_transition(model.start, sunny_state, 0.5)\n",
    "model.add_transition(model.start, rainy_state, 0.5)\n",
    "\n",
    "# add sunny day transitions (we already know estimates of these probabilities\n",
    "# from the problem statement)\n",
    "model.add_transition(sunny_state, sunny_state, 0.8)  # 80% sunny->sunny\n",
    "model.add_transition(sunny_state, rainy_state, 0.2)  # 20% sunny->rainy\n",
    "\n",
    "# TODO: add rainy day transitions using the probabilities \n",
    "model.add_transition(rainy_state, sunny_state, 0.4)  # 40% rainy->sunny\n",
    "model.add_transition(rainy_state, rainy_state, 0.6)  # 60% rainy->rainy\n",
    "\n",
    "# finally, call the .bake() method to finalize the model\n",
    "\n",
    "model.bake()\n",
    "\n",
    "# print(model.edge_count())\n",
    "\n",
    "assert model.edge_count() == 6, \"There should be two edges from model.start, two from Rainy, and two from Sunny\"\n",
    "assert model.node_count() == 4, \"The states should include model.start, model.end, Rainy, and Sunny\"\n",
    "print(\"Great! We've finished the model.\")"
   ]
  },
  {
   "cell_type": "markdown",
   "metadata": {},
   "source": [
    "***\n",
    "#### Visualizing the network with an image\n",
    "\n",
    "***"
   ]
  },
  {
   "cell_type": "code",
   "execution_count": 36,
   "metadata": {},
   "outputs": [
    {
     "data": {
      "image/png": "[encoded data removed]",
      "text/plain": [
       "<Figure size 576x576 with 1 Axes>"
      ]
     },
     "metadata": {
      "needs_background": "light"
     },
     "output_type": "display_data"
    }
   ],
   "source": [
    "show_model(model, figsize=(8, 8), filename=\"example.png\", overwrite=True, show_ends=True)"
   ]
  },
  {
   "cell_type": "markdown",
   "metadata": {},
   "source": [
    "### Checking the model"
   ]
  },
  {
   "cell_type": "code",
   "execution_count": 24,
   "metadata": {},
   "outputs": [
    {
     "name": "stdout",
     "output_type": "stream",
     "text": [
      "The state transition matrix, P(Xt|Xt-1):\n",
      "\n",
      "[[0.  0.5 0.5 0. ]\n",
      " [0.  0.8 0.2 0. ]\n",
      " [0.  0.4 0.6 0. ]\n",
      " [0.  0.  0.  0. ]]\n",
      "\n",
      "The transition probability from Rainy to Sunny is 40%\n"
     ]
    }
   ],
   "source": [
    "# print(model.states)\n",
    "# print(model)\n",
    "# print([s.distribution for s in model.states])\n",
    "\n",
    "column_order = [\"Example Model-start\", \"Sunny\", \"Rainy\", \"Example Model-end\"]  # Override the Pomegranate default order\n",
    "column_names = [s.name for s in model.states]\n",
    "order_index = [column_names.index(c) for c in column_order]\n",
    "# print(order_index)\n",
    "\n",
    "# re-order the rows/columns to match the specified column order\n",
    "transitions = model.dense_transition_matrix()[:, order_index][order_index, :]\n",
    "print(\"The state transition matrix, P(Xt|Xt-1):\\n\")\n",
    "print(transitions)\n",
    "print(\"\\nThe transition probability from Rainy to Sunny is {:.0f}%\".format(100 * transitions[2, 1]))\n",
    "\n",
    "# both rows amd columns are as : start, to sunny day, to rainy day, end\n",
    "\n"
   ]
  },
  {
   "cell_type": "markdown",
   "metadata": {},
   "source": [
    "***\n",
    "\n",
    "#### Three most common HMM tasks\n",
    "* `Likelihood evaluation `: Given a model and a set of observations , determine the likelihood of observing that sequence from the model \n",
    "    * The likelihood is often used in problems like machine translation to weight interpretations in conjunction with a statistical language model.\n",
    "\n",
    "<br>\n",
    "      \n",
    "* `Hidden State Decoding `: Given a model and a set of observations , determine the most likely sequence of hidden states in the model to produce the observations\n",
    "    * We can use the weather prediction model to determine the most likely sequence of Rainy/Sunny states for a known observation sequence, like [yes, no] -> [Rainy, Sunny].\n",
    "    * We will use decoding in the part of speech tagger to determine the tag for each word of a sentence\n",
    "    * The decoding can be further split into \"smoothing\" when we want to calculate past states, \"filtering\" when we want to calculate the current state, or \"prediction\" if we want to calculate future states.\n",
    "\n",
    "<br>\n",
    "\n",
    "* `Parameter Learning `: Given a model topography (set of states and connections) and a set of observations , learn the transition probabilities and emission probabilities of the model"
   ]
  },
  {
   "cell_type": "markdown",
   "metadata": {},
   "source": [
    "***\n",
    "\n",
    "### Using the model after it is made (implementation)\n",
    "\n",
    "Using the <a href=\"https://en.wikipedia.org/wiki/Forward_algorithm\" target=_blank> forward algorithm </a>\n",
    "\n",
    "\n",
    "Pomegranate provides the the HMM.forward() method to calculate the full matrix showing the likelihood of aligning each observation to each state in the HMM, and the HMM.log_probability() method to calculate the cumulative likelihood over all possible hidden state paths that the specified model generated the observation sequence\n",
    "\n",
    "***\n"
   ]
  },
  {
   "cell_type": "code",
   "execution_count": 25,
   "metadata": {},
   "outputs": [
    {
     "name": "stdout",
     "output_type": "stream",
     "text": [
      "[[0.     0.     1.     0.    ]\n",
      " [0.4    0.05   0.     0.    ]\n",
      " [0.05   0.18   0.     0.    ]\n",
      " [0.0528 0.0164 0.     0.    ]]\n",
      "            Rainy      Sunny      Example Model-start      Example Model-end   \n",
      " <start>      0%         0%               100%                     0%          \n",
      "   yes       40%         5%                0%                      0%          \n",
      "    no        5%        18%                0%                      0%          \n",
      "   yes        5%         2%                0%                      0%          \n",
      "\n",
      "The likelihood over all possible paths of this model producing the sequence ['yes', 'no', 'yes'] is 6.92%\n",
      "\n",
      "\n"
     ]
    }
   ],
   "source": [
    "# inputting a sequence of 'yes'/'no' values in the list below for testing\n",
    "observations = ['yes', 'no', 'yes']\n",
    "\n",
    "assert len(\n",
    "    observations) > 0, \"We need to choose a sequence of 'yes'/'no' observations to test\"\n",
    "\n",
    "# using model.forward() to calculate the forward matrix of the observed sequence,\n",
    "# and then use np.exp() to convert from log-likelihood to likelihood\n",
    "forward_matrix = np.exp(model.forward(observations))\n",
    "print(forward_matrix)\n",
    "\n",
    "\n",
    "# TODO: use model.log_probability() to calculate the all-paths likelihood of the\n",
    "# observed sequence and then use np.exp() to convert log-likelihood to likelihood\n",
    "probability_percentage = np.exp(model.log_probability(observations))\n",
    "\n",
    "# Display the forward probabilities\n",
    "print(\"         \" + \"\".join(s.name.center(len(s.name)+6)\n",
    "      for s in model.states))  # to print the top row\n",
    "\n",
    "\n",
    "for i in range(len(observations) + 1):  # iterating through all the observations\n",
    "    # printing the first column\n",
    "    print(\" <start> \" if i == 0 else observations[i - 1].center(9), end=\"\")\n",
    "    # printinng the forward probability\n",
    "    print(\"\".join(\"{:.0f}%\".format(100 * forward_matrix[i, j]).center(len(s.name) + 6)\n",
    "                  for j, s in enumerate(model.states)))\n",
    "\n",
    "print(\"\\nThe likelihood over all possible paths \" +\n",
    "      \"of this model producing the sequence {} is {:.2f}%\\n\\n\"\n",
    "      .format(observations, 100 * probability_percentage))\n"
   ]
  },
  {
   "cell_type": "markdown",
   "metadata": {},
   "source": [
    "### viterbi (using pomegranate)"
   ]
  },
  {
   "cell_type": "code",
   "execution_count": 26,
   "metadata": {},
   "outputs": [
    {
     "name": "stdout",
     "output_type": "stream",
     "text": [
      "The most likely weather sequence to have generated these observations is ['Rainy', 'Sunny', 'Rainy'] at 2.30%.\n"
     ]
    }
   ],
   "source": [
    "# TODO: input a sequence of 'yes'/'no' values in the list below for testing\n",
    "observations = ['yes', 'no', 'yes']\n",
    "\n",
    "# TODO: use model.viterbi to find the sequence likelihood & the most likely path\n",
    "viterbi_likelihood, viterbi_path = model.viterbi(observations)\n",
    "\n",
    "print(\"The most likely weather sequence to have generated \" + \\\n",
    "      \"these observations is {} at {:.2f}%.\"\n",
    "      .format([s[1].name for s in viterbi_path[1:]], np.exp(viterbi_likelihood)*100)\n",
    ")\n",
    "\n",
    "# print(viterbi_path)"
   ]
  },
  {
   "cell_type": "code",
   "execution_count": 27,
   "metadata": {},
   "outputs": [
    {
     "name": "stdout",
     "output_type": "stream",
     "text": [
      "The likelihood of observing ['no', 'no', 'yes'] if the weather sequence is :\n",
      "\t('Sunny', 'Sunny', 'Sunny') is 2.59% \n",
      "\t('Sunny', 'Sunny', 'Rainy') is 5.18%  <-- Viterbi path\n",
      "\t('Sunny', 'Rainy', 'Sunny') is 0.07% \n",
      "\t('Sunny', 'Rainy', 'Rainy') is 0.86% \n",
      "\t('Rainy', 'Sunny', 'Sunny') is 0.29% \n",
      "\t('Rainy', 'Sunny', 'Rainy') is 0.58% \n",
      "\t('Rainy', 'Rainy', 'Sunny') is 0.05% \n",
      "\t('Rainy', 'Rainy', 'Rainy') is 0.58% \n",
      "\n",
      "The total likelihood of observing ['no', 'no', 'yes'] over all possible paths is 10.20%\n"
     ]
    },
    {
     "data": {
      "text/plain": [
       "1"
      ]
     },
     "execution_count": 27,
     "metadata": {},
     "output_type": "execute_result"
    }
   ],
   "source": [
    "from itertools import product\n",
    "\n",
    "observations = ['no', 'no', 'yes']\n",
    "\n",
    "p = {'Sunny': {'Sunny': np.log(.8), 'Rainy': np.log(.2)}, 'Rainy': {'Sunny': np.log(.4), 'Rainy': np.log(.6)}}\n",
    "e = {'Sunny': {'yes': np.log(.1), 'no': np.log(.9)}, 'Rainy':{'yes':np.log(.8), 'no':np.log(.2)}}\n",
    "o = observations\n",
    "k = []\n",
    "vprob = np.exp(model.viterbi(o)[0])\n",
    "print(\"The likelihood of observing {} if the weather sequence is :\".format(o))\n",
    "for s in product(*[['Sunny', 'Rainy']]*3):\n",
    "    # print(s)\n",
    "    k.append(np.exp(np.log(.5)+e[s[0]][o[0]] + p[s[0]][s[1]] + e[s[1]][o[1]] + p[s[1]][s[2]] + e[s[2]][o[2]]))\n",
    "    print(\"\\t{} is {:.2f}% {}\".format(s, 100 * k[-1], \" <-- Viterbi path\" if k[-1] == vprob else \"\"))\n",
    "print(\"\\nThe total likelihood of observing {} over all possible paths is {:.2f}%\".format(o, 100*sum(k)))\n",
    "\n",
    "1\n",
    "# print(product(*[['Sunny','Rainy']]*3))"
   ]
  },
  {
   "cell_type": "markdown",
   "metadata": {},
   "source": [
    "### viterbi (more generalized)"
   ]
  },
  {
   "cell_type": "code",
   "execution_count": 28,
   "metadata": {},
   "outputs": [
    {
     "name": "stdout",
     "output_type": "stream",
     "text": [
      "('Sunny', 'Sunny', 'Sunny')  => 2.59\n",
      "('Sunny', 'Sunny', 'Rainy')  => 5.18\n",
      "('Sunny', 'Rainy', 'Sunny')  => 0.07\n",
      "('Sunny', 'Rainy', 'Rainy')  => 0.86\n",
      "('Rainy', 'Sunny', 'Sunny')  => 0.29\n",
      "('Rainy', 'Sunny', 'Rainy')  => 0.58\n",
      "('Rainy', 'Rainy', 'Sunny')  => 0.05\n",
      "('Rainy', 'Rainy', 'Rainy')  => 0.58\n",
      "Maximum probability for the observations  ['no', 'no', 'yes']  is 5.18  for the weather sequence ('Sunny', 'Sunny', 'Rainy')\n"
     ]
    }
   ],
   "source": [
    "observations = ['no', 'no', 'yes']\n",
    "\n",
    "# print(len(observations))\n",
    "\n",
    "probability = 0.5\n",
    "\n",
    "\n",
    "p = {'Sunny': {'Sunny': .8, 'Rainy': .2}, 'Rainy': {'Sunny': .4, 'Rainy': .6}}\n",
    "e = {'Sunny': {'yes': .1, 'no': .9}, 'Rainy': {'yes': .8, 'no': .2}}\n",
    "m = {'yes': {'Sunny': .1, 'Rainy': .8}, 'no': {'Sunny': .9, 'Rainy': .2}}\n",
    "\n",
    "# print(p['Sunny']['Rainy'])\n",
    "\n",
    "\n",
    "cartesian_product = product(*[['Sunny', 'Rainy']]*len(observations))\n",
    "max_prob=0\n",
    "max_prob_list=[]\n",
    "for s in cartesian_product:\n",
    "    # print(\"Working for\",s)\n",
    "    \n",
    "    # print(s)\n",
    "    probability = 0.5\n",
    "    for i in range(len(observations)):\n",
    "        if (i > 0):\n",
    "            # print(\"multiplying with probability of \", s[i], \" occuring after \", s[i-1], \" that is : \", p[s[i-1]][s[i]])\n",
    "            probability = probability*p[s[i-1]][s[i]]\n",
    "        \n",
    "        # print(\"multiplying with the probability that there is a '\", observations[i],\"' on \", s[i], \" that is : \", m[observations[i]][s[i]])\n",
    "        probability = probability*m[observations[i]][s[i]]\n",
    "    \n",
    "    probability*=100\n",
    "    if(probability>max_prob):\n",
    "        max_prob=probability\n",
    "        max_prob_list=s\n",
    "    print(s,\" => {:.2f}\".format(probability))\n",
    "\n",
    "\n",
    "print(\"Maximum probability for the observations \", observations, \" is {:.2f}\".format(max_prob),\" for the weather sequence\", max_prob_list)\n"
   ]
  },
  {
   "cell_type": "code",
   "execution_count": null,
   "metadata": {},
   "outputs": [],
   "source": []
  }
 ],
 "metadata": {
  "kernelspec": {
   "display_name": "Python 3.10.5 64-bit",
   "language": "python",
   "name": "python3"
  },
  "language_info": {
   "codemirror_mode": {
    "name": "ipython",
    "version": 3
   },
   "file_extension": ".py",
   "mimetype": "text/x-python",
   "name": "python",
   "nbconvert_exporter": "python",
   "pygments_lexer": "ipython3",
   "version": "3.10.5"
  },
  "orig_nbformat": 4,
  "vscode": {
   "interpreter": {
    "hash": "767d51c1340bd893661ea55ea3124f6de3c7a262a8b4abca0554b478b1e2ff90"
   }
  }
 },
 "nbformat": 4,
 "nbformat_minor": 2
}
