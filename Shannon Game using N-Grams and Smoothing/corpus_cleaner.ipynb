{
 "cells": [
  {
   "attachments": {},
   "cell_type": "markdown",
   "metadata": {},
   "source": [
    "## Import the necessary libraries"
   ]
  },
  {
   "cell_type": "code",
   "execution_count": 25,
   "metadata": {},
   "outputs": [],
   "source": [
    "import pandas as pd\n",
    "import re\n",
    "import string\n",
    "import numpy as np\n",
    "from collections import Counter\n",
    "import pickle"
   ]
  },
  {
   "attachments": {},
   "cell_type": "markdown",
   "metadata": {},
   "source": [
    "### Import the corpus     "
   ]
  },
  {
   "cell_type": "code",
   "execution_count": 26,
   "metadata": {},
   "outputs": [],
   "source": [
    "with open('./Data/Pride and Prejudice - Jane Austen.txt', 'r') as f:\n",
    "    pride_prejudice = f.read()\n",
    "\n",
    "with open('./Data/Ulysses - James Joyce.txt', 'r') as f:\n",
    "    ulysses = f.read()\n",
    "\n",
    "# text= ' In Pride and Prejudice by Jane Austen, Elizabeth Bennett meets Mr Darcy at a ball hosted by her friend @charles_bingly. They dance, but Mr Darcy finds her behaviour \"tolerable, but not handsome enough to tempt him\" #rude. She later visits Pemberley, Mr Darcys estate, where she learns more about his character. Check out more information at https://janeausten.co.uk.'\n",
    "# print(text)"
   ]
  },
  {
   "attachments": {},
   "cell_type": "markdown",
   "metadata": {},
   "source": [
    "### Corpus cleaner and tokenizer"
   ]
  },
  {
   "cell_type": "code",
   "execution_count": 27,
   "metadata": {},
   "outputs": [],
   "source": [
    "def clean_corpus(text):\n",
    "\n",
    "    hashtags = re.findall(r'#[a-zA-Z0-9_]+', text)\n",
    "    mentions = re.findall(r'@[a-zA-Z0-9_]+', text)\n",
    "    urls = re.findall(\n",
    "        r'http[s]?://(?:[a-zA-Z]|[0-9]|[$-_@.&+]|[!*\\(\\),]|(?:%[0-9a-fA-F][0-9a-fA-F]))+', text)\n",
    "    emails = re.findall(\n",
    "        r'[a-zA-Z0-9_.+-]+@[a-zA-Z0-9-]+\\.[a-zA-Z0-9-.]+', text)\n",
    "    urls.extend(re.findall(r'www\\.[a-z0-9]+.[a-z]+', text))\n",
    "\n",
    "    print(\"> URLS : \", urls)\n",
    "    print(\"> HASHTAGS : \", hashtags)\n",
    "    print(\"> MENTIONS : \", mentions)\n",
    "    print(\"> EMAILS : \", emails)\n",
    "\n",
    "    # convert to lower case\n",
    "    text = text.lower()\n",
    "\n",
    "    # regex to find the URLs starting with \"http\" and replace them with \"<URL>\"\n",
    "    text = re.sub(\n",
    "        r'http[s]?://(?:[a-zA-Z]|[0-9]|[$-_@.&+]|[!*\\(\\),]|(?:%[0-9a-fA-F][0-9a-fA-F]))+', '<URL>', text)\n",
    "\n",
    "    # regex to find the URLs starting with \"www\" and replace them with \"<URL>\"\n",
    "    text = re.sub(r'www\\.[a-z0-9]+.[a-z]+', '<URL>', text)\n",
    "\n",
    "    # convert email addresses to <EMAIL>\n",
    "    text = re.sub(\n",
    "        r'[a-zA-Z0-9_.+-]+@[a-zA-Z0-9-]+\\.[a-zA-Z0-9-.]+', '<EMAIL>', text)\n",
    "\n",
    "    # regex to find all the mentions with @ and replace them with \"<MENTION>\"\n",
    "    text = re.sub(r'@[a-zA-Z0-9_]+', '<MENTION>', text)\n",
    "\n",
    "    # regex to find all the hashtags with # and replace them with \"<HASHTAG>\"\n",
    "    text = re.sub(r'#[a-zA-Z0-9_]+', '<HASHTAG>', text)\n",
    "\n",
    "    # regex to convert \"Chapter 1\" to \"<CHAPTER>\"\n",
    "    text = re.sub(r'Chapter \\d+', '<CHAPTER>', text)\n",
    "    # there are some words which have underscores in the starting and ending, replacing them with just the word\n",
    "    # remove the underscores from the whole text\n",
    "    text = re.sub(r'_', '', text)\n",
    "\n",
    "    # regex to convert all the dates to \"<DATE>\" of the format dd/mm/yyyy\n",
    "    text = re.sub(r'\\d{1,2}\\/\\d{1,2}\\/\\d{2,4}', '<DATE>', text)\n",
    "\n",
    "    # regex to convert all the dates in the format of \"<Date> <Month> <Year>\" to \"<DATE>\"\n",
    "    text = re.sub(r'\\d{1,2} [a-zA-Z]{3,9}  \\d{2,4}', '<DATE>', text)\n",
    "\n",
    "    # regex to convert all the dates in the format of \"<Month> <Date>  <Year>\" to \"<DATE>\"\n",
    "    text = re.sub(r'[a-zA-Z]{3,9} \\d{1,2}  \\d{2,4}', '<DATE>', text)\n",
    "\n",
    "    # regex to remove Mr. and Mrs.\n",
    "    text = re.sub(r'Mr\\.|Mrs\\.', '', text)\n",
    "\n",
    "    # replace \\n with space\n",
    "    text = re.sub(r'\\n', ' ', text)\n",
    "\n",
    "    punctuations_to_be_retained = ['#', '@', '<', '>', \"'\", '\"']\n",
    "    punctuations_to_be_removed = ''.join(\n",
    "        [p for p in string.punctuation if p not in punctuations_to_be_retained])\n",
    "    text = re.sub(r'['+punctuations_to_be_removed+']', r' \\g<0> ', text)\n",
    "\n",
    "    text = re.sub(r'\\'|\\\"', '', text) # remove ' and \"\n",
    "    text = re.sub(r'\\s+', ' ', text) # remove extra empty lines\n",
    "\n",
    "    return text\n",
    "    # print(text)\n"
   ]
  },
  {
   "attachments": {},
   "cell_type": "markdown",
   "metadata": {},
   "source": [
    "### Cleaning both the corupus using the function above"
   ]
  },
  {
   "cell_type": "code",
   "execution_count": 28,
   "metadata": {},
   "outputs": [
    {
     "name": "stdout",
     "output_type": "stream",
     "text": [
      "> URLS :  ['http://www.gutenberg.org/dirs/4/2/6/7/42671', 'www.gutenberg.org', 'www.gutenberg.org', 'www.gutenberg.org', 'www.gutenberg.org', 'www.gutenberg.org', 'www.gutenberg.org', 'www.gutenberg.org', 'www.gutenberg.org', 'www.gutenberg.org']\n",
      "> HASHTAGS :  []\n",
      "> MENTIONS :  ['@pglaf']\n",
      "> EMAILS :  ['gbnewby@pglaf.org']\n",
      "> URLS :  ['https://www.gutenberg.org/4/3/0/4300/', 'www.gutenberg.org', 'www.gutenberg.org', 'www.gutenberg.org', 'www.gutenberg.org', 'www.gutenberg.org', 'www.gutenberg.org', 'www.gutenberg.org', 'www.gutenberg.org', 'www.gutenberg.org']\n",
      "> HASHTAGS :  []\n",
      "> MENTIONS :  []\n",
      "> EMAILS :  []\n",
      "Number of characters in Pride and Prejudice:  719354\n"
     ]
    }
   ],
   "source": [
    "pride_prejudice_clean = clean_corpus(pride_prejudice)\n",
    "ulysses_clean= clean_corpus(ulysses)\n",
    "\n",
    "print(\"Number of characters in Pride and Prejudice: \", len(pride_prejudice_clean))"
   ]
  },
  {
   "attachments": {},
   "cell_type": "markdown",
   "metadata": {},
   "source": [
    "### Setting aside 1000 <u>random</u> sentences from both the corpora for testing"
   ]
  },
  {
   "cell_type": "code",
   "execution_count": 29,
   "metadata": {},
   "outputs": [],
   "source": [
    "def convert_to_sentences(data):\n",
    "    # split the text into sentences\n",
    "    sentences = re.split(r' *[\\.\\?!][\\'\"\\)\\]]* *', data)\n",
    "    sentences = [s.strip() for s in sentences if len(s) > 0]\n",
    "    sentences = [s for s in sentences if len(s.split()) > 1]\n",
    "    # sentences=['<START> <START> <START> '+s+' <END>' for s in sentences]\n",
    "    \n",
    "    return sentences"
   ]
  },
  {
   "cell_type": "code",
   "execution_count": 30,
   "metadata": {},
   "outputs": [],
   "source": [
    "def random_split(sentences):\n",
    "    test=[]\n",
    "    test=np.random.choice(sentences, 1000 , replace=False).tolist()\n",
    "    train=[s for s in sentences if s not in test]\n",
    "    return(train,test)"
   ]
  },
  {
   "cell_type": "code",
   "execution_count": 31,
   "metadata": {},
   "outputs": [],
   "source": [
    "def create_vocab(sentences):\n",
    "    all_words = []\n",
    "    for s in sentences:\n",
    "        all_words.extend(s.split())\n",
    "        \n",
    "    counted = Counter(all_words)\n",
    "    return counted"
   ]
  },
  {
   "cell_type": "code",
   "execution_count": 32,
   "metadata": {},
   "outputs": [
    {
     "name": "stdout",
     "output_type": "stream",
     "text": [
      "Number of sentences in Pride and Prejudice:  6951\n",
      "PRIDE & PREJUDICE VOCAB :  6267\n",
      "ULYSSES VOCAB :  29764\n"
     ]
    }
   ],
   "source": [
    "cleaned_sentences_pride_prejudice = convert_to_sentences(pride_prejudice_clean)\n",
    "cleaned_sentences_ulysses = convert_to_sentences(ulysses_clean)\n",
    "\n",
    "print(\"Number of sentences in Pride and Prejudice: \", len(cleaned_sentences_pride_prejudice))\n",
    "\n",
    "# sentences_pride_prejudice=convert_to_sentences(pride_prejudice)\n",
    "# sentences_ulysses=convert_to_sentences(ulysses)\n",
    "\n",
    "\n",
    "train_pride_prejudice,test_pride_prejudice=random_split(cleaned_sentences_pride_prejudice)\n",
    "train_ulysses,test_ulysses=random_split(cleaned_sentences_ulysses)\n",
    "\n",
    "\n",
    "# vocab_pride_prejudice, train_pride_prejudice=create_vocab(train_pride_prejudice)\n",
    "# vocab_ulysse, train_ulysses=create_vocab(train_ulysses)\n",
    "vocab_pride_prejudice=create_vocab(train_pride_prejudice)\n",
    "vocab_ulysses=create_vocab(train_ulysses)\n",
    "\n",
    "\n",
    "print(\"PRIDE & PREJUDICE VOCAB : \", len(vocab_pride_prejudice))\n",
    "print(\"ULYSSES VOCAB : \", len(vocab_ulysses))\n"
   ]
  },
  {
   "cell_type": "code",
   "execution_count": 33,
   "metadata": {},
   "outputs": [],
   "source": [
    "# print(vocab_pride_prejudice)"
   ]
  },
  {
   "cell_type": "code",
   "execution_count": 34,
   "metadata": {},
   "outputs": [],
   "source": [
    "# save the vocab, cleaned sentences and test sentences to a file\n",
    "with open('./Data/cleaned_pride_prejudice.pkl', 'wb') as f:\n",
    "    pickle.dump(cleaned_sentences_pride_prejudice, f)\n",
    "    \n",
    "with open('./Data/cleaned_ulysses.pkl', 'wb') as f:\n",
    "    pickle.dump(cleaned_sentences_ulysses, f)\n",
    "\n",
    "with open('./Data/vocab_pride_prejudice.pkl', 'wb') as f:\n",
    "    pickle.dump(vocab_pride_prejudice, f)\n",
    "\n",
    "with open('./Data/train_pride_prejudice.pkl', 'wb') as f:\n",
    "    pickle.dump(train_pride_prejudice, f)\n",
    "    \n",
    "with open('./Data/test_pride_prejudice.pkl', 'wb') as f:\n",
    "    pickle.dump(test_pride_prejudice, f)\n",
    "\n",
    "with open('./Data/vocab_ulysses.pkl', 'wb') as f:\n",
    "    pickle.dump(vocab_ulysses, f)    \n",
    "    \n",
    "with open('./Data/train_ulysses.pkl', 'wb') as f:\n",
    "    pickle.dump(train_ulysses, f)\n",
    "    \n",
    "with open('./Data/test_ulysses.pkl', 'wb') as f:   \n",
    "    pickle.dump(test_ulysses, f)\n",
    "    "
   ]
  }
 ],
 "metadata": {
  "kernelspec": {
   "display_name": "Python 3",
   "language": "python",
   "name": "python3"
  },
  "language_info": {
   "codemirror_mode": {
    "name": "ipython",
    "version": 3
   },
   "file_extension": ".py",
   "mimetype": "text/x-python",
   "name": "python",
   "nbconvert_exporter": "python",
   "pygments_lexer": "ipython3",
   "version": "3.10.7"
  },
  "orig_nbformat": 4,
  "vscode": {
   "interpreter": {
    "hash": "916dbcbb3f70747c44a77c7bcd40155683ae19c65e1c03b4aa3499c5328201f1"
   }
  }
 },
 "nbformat": 4,
 "nbformat_minor": 2
}
